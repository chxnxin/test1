{
 "cells": [
  {
   "cell_type": "code",
   "execution_count": 2,
   "metadata": {},
   "outputs": [
    {
     "ename": "ModuleNotFoundError",
     "evalue": "No module named 'numpy'",
     "output_type": "error",
     "traceback": [
      "\u001b[1;31m---------------------------------------------------------------------------\u001b[0m",
      "\u001b[1;31mModuleNotFoundError\u001b[0m                       Traceback (most recent call last)",
      "Cell \u001b[1;32mIn[2], line 1\u001b[0m\n\u001b[1;32m----> 1\u001b[0m \u001b[38;5;28;01mimport\u001b[39;00m \u001b[38;5;21;01mnumpy\u001b[39;00m \u001b[38;5;28;01mas\u001b[39;00m \u001b[38;5;21;01mnp\u001b[39;00m \n\u001b[0;32m      2\u001b[0m \u001b[38;5;28;01mimport\u001b[39;00m \u001b[38;5;21;01mtorch\u001b[39;00m\n\u001b[0;32m      3\u001b[0m \u001b[38;5;28;01mimport\u001b[39;00m \u001b[38;5;21;01mtorch\u001b[39;00m\u001b[38;5;21;01m.\u001b[39;00m\u001b[38;5;21;01mnn\u001b[39;00m \u001b[38;5;28;01mas\u001b[39;00m \u001b[38;5;21;01mnn\u001b[39;00m\n",
      "\u001b[1;31mModuleNotFoundError\u001b[0m: No module named 'numpy'"
     ]
    }
   ],
   "source": [
    "import numpy as np \n",
    "import torch\n",
    "import torch.nn as nn\n",
    "import torch.nn.functional as F\n",
    "\n",
    " \n",
    "class CNNWithCBAM(nn.Module):\n",
    "    def __init__(self):\n",
    "        super(CNNWithCBAM, self).__init__()\n",
    "        self.conv1 = nn.Conv2d(1, 64, kernel_size=3, padding=1)\n",
    "        self.conv2 = nn.Conv2d(64, 128, kernel_size=3, padding=1)\n",
    "        \n",
    "        # Integrating CBAM after first and second convolution layers\n",
    "        self.cbam1 = cbam_module(gate_channels=64, reduction=16, pool_types=['avg', 'max'])\n",
    "        self.cbam2 = cbam_module(gate_channels=128, reduction=16, pool_types=['avg', 'max'])\n",
    "        \n",
    "        # Pooling Layers\n",
    "        self.pool1 = nn.AvgPool2d((8,8))\n",
    "        self.pool2 = nn.AvgPool2d((8,8))\n",
    "        \n",
    "        self.fc = nn.Linear(128 * 8 * 8, 10)  # Fully connected layer\n",
    "\n",
    "    def forward(self, x):\n",
    "        # First conv layer\n",
    "        x = self.conv1(x)\n",
    "        print(\"After conv1 : {}\".format(x.shape))\n",
    "        x = F.relu(x)\n",
    "        x = self.cbam1(x)  # Applying CBAM after the first convolution layer\n",
    "        x = self.pool1(x)\n",
    "\n",
    "        # Second conv layer\n",
    "        x = self.conv2(x)\n",
    "        x = F.relu(x)\n",
    "        x = self.cbam2(x)  # Applying CBAM after the second convolution layer\n",
    "        x = self.pool2(x)\n",
    "\n",
    "        # Flatten and Fully Connected Layer\n",
    "        x = x.view(x.size(0), -1)\n",
    "        x = self.fc(x)\n",
    "        return x"
   ]
  },
  {
   "cell_type": "code",
   "execution_count": null,
   "metadata": {},
   "outputs": [],
   "source": [
    "x_in = torch.rand((1, 64, 256), device=torch.device(\"cpu\"))\n",
    "model = CNNWithCBAM()\n",
    "y = model(x_in)\n",
    "print(y.shape)"
   ]
  }
 ],
 "metadata": {
  "kernelspec": {
   "display_name": "Python 3",
   "language": "python",
   "name": "python3"
  },
  "language_info": {
   "codemirror_mode": {
    "name": "ipython",
    "version": 3
   },
   "file_extension": ".py",
   "mimetype": "text/x-python",
   "name": "python",
   "nbconvert_exporter": "python",
   "pygments_lexer": "ipython3",
   "version": "3.11.2"
  }
 },
 "nbformat": 4,
 "nbformat_minor": 2
}
